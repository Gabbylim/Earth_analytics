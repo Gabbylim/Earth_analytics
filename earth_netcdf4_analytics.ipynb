{
 "cells": [
  {
   "cell_type": "code",
   "execution_count": 4,
   "id": "7716ba98-1aa2-4a33-8074-e766c1c4ecbe",
   "metadata": {},
   "outputs": [
    {
     "name": "stdout",
     "output_type": "stream",
     "text": [
      "✅ Good to go Gabby\n"
     ]
    }
   ],
   "source": [
    "#essential libraries\n",
    "#working with maca v2 climate data with python\n",
    "import os\n",
    "import numpy as np\n",
    "import pandas as pd\n",
    "import matplotlib.pyplot as plt\n",
    "import xarray as xr\n",
    "import netCDF4\n",
    "#import geopandas as gdp\n",
    "import cartopy.crs as ccrs\n",
    "#import earthpy as et\n",
    "import numpy\n",
    "import rioxarray as rxr\n",
    "#import cartopy.feature as cfeature\n",
    "import seaborn as sns\n",
    "\n",
    "\n",
    "\n",
    "#plot options\n",
    "sns.set(font_scale=1.3)\n",
    "sns.set_style('white')\n",
    "print(\"\\u2705 Good to go Gabby\")\n",
    "\n",
    "###further assignement\n",
    "#os.chidir(os.path.join(et.io.HOME))\n",
    "\n",
    "\n"
   ]
  },
  {
   "cell_type": "code",
   "execution_count": 5,
   "id": "88eb4fa2-8327-4d7f-8f0b-5caacdbdeece",
   "metadata": {
    "scrolled": true
   },
   "outputs": [
    {
     "ename": "FileNotFoundError",
     "evalue": "[Errno 2] No such file or directory: '../Data_cell'",
     "output_type": "error",
     "traceback": [
      "\u001b[0;31m---------------------------------------------------------------------------\u001b[0m",
      "\u001b[0;31mFileNotFoundError\u001b[0m                         Traceback (most recent call last)",
      "Cell \u001b[0;32mIn[5], line 2\u001b[0m\n\u001b[1;32m      1\u001b[0m \u001b[38;5;66;03m#file opening\u001b[39;00m\n\u001b[0;32m----> 2\u001b[0m os\u001b[38;5;241m.\u001b[39mchdir(\u001b[38;5;124m'\u001b[39m\u001b[38;5;124m../Data_cell\u001b[39m\u001b[38;5;124m'\u001b[39m)\n\u001b[1;32m      3\u001b[0m data_path \u001b[38;5;241m=\u001b[39m \u001b[38;5;124m\"\u001b[39m\u001b[38;5;124magg_macav2metdata_tasmin_bcc-csm_historical_1950_2005_CONUS_monthly.nc\u001b[39m\u001b[38;5;124m\"\u001b[39m\n\u001b[1;32m      4\u001b[0m \u001b[38;5;66;03m#data_path = \"http://thredds.northwestknowledge.net:8080/thredds/dodsC/agg_macav2metdata_tasmax_BNU-ESM_r1i1p1_historical_1950_2005_CONUS_monthly.nc\"\u001b[39;00m\n",
      "\u001b[0;31mFileNotFoundError\u001b[0m: [Errno 2] No such file or directory: '../Data_cell'"
     ]
    }
   ],
   "source": [
    "#file opening\n",
    "os.chdir('../Data_cell')\n",
    "data_path = \"agg_macav2metdata_tasmin_bcc-csm_historical_1950_2005_CONUS_monthly.nc\"\n",
    "#data_path = \"http://thredds.northwestknowledge.net:8080/thredds/dodsC/agg_macav2metdata_tasmax_BNU-ESM_r1i1p1_historical_1950_2005_CONUS_monthly.nc\"\n",
    "min_temp_xr = xr.open_dataset(data_path)\n",
    "#ds = xr.open_dataset(file_path)\n",
    "#print(\"file dimensions\",ds.dims)\n",
    "#print(\"file coords\",ds.coords)\n",
    "model_name = ('bcc-csm1-1',\n",
    "              'bcc-csm1-1-m',\n",
    "              'BNU-ESM',\n",
    "              'CanESM2',\n",
    "              'CCSM4',\n",
    "              'CNRM-CM5',\n",
    "              'CSIRO-Mk3-6-0',\n",
    "              'GFDL-ESM2G',\n",
    "              'GFDL-ESM2M',\n",
    "              'HadGEM2-CC365',\n",
    "              'HadGEM2-ES365',\n",
    "              'inmcm4',\n",
    "              'IPSL-CM5A-MR',\n",
    "              'IPSL-CM5A-LR',\n",
    "              'IPSL-CM5B-LR',\n",
    "              'MIROC5',\n",
    "              'MIROC-ESM',\n",
    "              'MIROC-ESM-CHEM',\n",
    "              'MRI-CGCM3',\n",
    "              'NorESM1-M')\n",
    "\n",
    "dir_path = 'http://thredds.northwestknowledge.net:8080/thredds/dodsC/'\n",
    "variable_name = ('tasmax',\n",
    "                 'tasmin',\n",
    "                 'rhsmax',\n",
    "                 'rhsmin',\n",
    "                 'pr',\n",
    "                 'rsds',\n",
    "                 'uas',\n",
    "                 'vas',\n",
    "                 'huss')\n",
    "var_long_name = ('air_temperature',\n",
    "                 'air_temperature',\n",
    "                 'relative_humidity',\n",
    "                 'relative_humidity',\n",
    "                 'precipitation',\n",
    "                 'surface_downwelling_shortwave_flux_in_air',\n",
    "                 'eastward_wind',\n",
    "                 'northward_wind',\n",
    "                 'specific_humidity')\n",
    "scenario_type = ('historical','rcp45','rcp85')\n",
    "\n",
    "year_start = ('1950')\n",
    "year_end = ('2005')\n",
    "run_num = [1] * 20\n",
    "run_num[4] = 6  # setting CCSM4 with run 6\n",
    "domain = 'CONUS'\n",
    "model = 2\n",
    "var=1\n",
    "scenario=0\n",
    "\n",
    "try:\n",
    "    print(\"Great! You have selected :\\n \\u2705 variable {}  \\n \\u2705 Model: {}, \\n \\u2705 Scenario {}\".format(variable_name[var],model_name[model],scenario_type[scenario]))\n",
    "\n",
    "except IndexError as e:\n",
    "    raise IndexError(\"Oops, it looks like you selected value that is \"\n",
    "                     \"not within the range of values which is 0-2. please look\"\n",
    "                     \"closely at your selected values.\")\n",
    "\n",
    "\n",
    "    "
   ]
  },
  {
   "cell_type": "code",
   "execution_count": 6,
   "id": "4d5e9652-fad9-4516-a7c9-40dc8398b351",
   "metadata": {
    "scrolled": true
   },
   "outputs": [
    {
     "ename": "NameError",
     "evalue": "name 'min_temp_xr' is not defined",
     "output_type": "error",
     "traceback": [
      "\u001b[0;31m---------------------------------------------------------------------------\u001b[0m",
      "\u001b[0;31mNameError\u001b[0m                                 Traceback (most recent call last)",
      "Cell \u001b[0;32mIn[6], line 1\u001b[0m\n\u001b[0;32m----> 1\u001b[0m min_temp_xr\n",
      "\u001b[0;31mNameError\u001b[0m: name 'min_temp_xr' is not defined"
     ]
    }
   ],
   "source": [
    "min_temp_xr"
   ]
  },
  {
   "cell_type": "code",
   "execution_count": 7,
   "id": "bbd5a855-eb2c-477f-911c-1207767ef9ca",
   "metadata": {},
   "outputs": [
    {
     "ename": "NameError",
     "evalue": "name 'min_temp_xr' is not defined",
     "output_type": "error",
     "traceback": [
      "\u001b[0;31m---------------------------------------------------------------------------\u001b[0m",
      "\u001b[0;31mNameError\u001b[0m                                 Traceback (most recent call last)",
      "Cell \u001b[0;32mIn[7], line 2\u001b[0m\n\u001b[1;32m      1\u001b[0m \u001b[38;5;66;03m#grabbibg the coordinate system\u001b[39;00m\n\u001b[0;32m----> 2\u001b[0m climate_crs \u001b[38;5;241m=\u001b[39m min_temp_xr\u001b[38;5;241m.\u001b[39mrio\u001b[38;5;241m.\u001b[39mcrs\n\u001b[1;32m      3\u001b[0m \u001b[38;5;28mprint\u001b[39m(climate_crs)\n",
      "\u001b[0;31mNameError\u001b[0m: name 'min_temp_xr' is not defined"
     ]
    }
   ],
   "source": [
    "#grabbibg the coordinate system\n",
    "climate_crs = min_temp_xr.rio.crs\n",
    "print(climate_crs)\n"
   ]
  },
  {
   "cell_type": "code",
   "execution_count": 8,
   "id": "ece15831-9d4b-49fc-adfc-f348556a3728",
   "metadata": {},
   "outputs": [
    {
     "ename": "NameError",
     "evalue": "name 'min_temp_xr' is not defined",
     "output_type": "error",
     "traceback": [
      "\u001b[0;31m---------------------------------------------------------------------------\u001b[0m",
      "\u001b[0;31mNameError\u001b[0m                                 Traceback (most recent call last)",
      "Cell \u001b[0;32mIn[8], line 2\u001b[0m\n\u001b[1;32m      1\u001b[0m \u001b[38;5;66;03m#view the first values\u001b[39;00m\n\u001b[0;32m----> 2\u001b[0m min_temp_xr[\u001b[38;5;124m\"\u001b[39m\u001b[38;5;124mair_temperature\u001b[39m\u001b[38;5;124m\"\u001b[39m][\u001b[38;5;124m\"\u001b[39m\u001b[38;5;124mlat\u001b[39m\u001b[38;5;124m\"\u001b[39m]\u001b[38;5;241m.\u001b[39mvalues[:\u001b[38;5;241m5\u001b[39m]\n\u001b[1;32m      4\u001b[0m \u001b[38;5;66;03m#print min/max values\u001b[39;00m\n\u001b[1;32m      5\u001b[0m \u001b[38;5;28mprint\u001b[39m(\u001b[38;5;124m\"\u001b[39m\u001b[38;5;124mthe min/maxi lattitude values are:\u001b[39m\u001b[38;5;124m\"\u001b[39m,min_temp_xr[\u001b[38;5;124m\"\u001b[39m\u001b[38;5;124mair_temperature\u001b[39m\u001b[38;5;124m\"\u001b[39m][\u001b[38;5;124m\"\u001b[39m\u001b[38;5;124mlat\u001b[39m\u001b[38;5;124m\"\u001b[39m]\u001b[38;5;241m.\u001b[39mvalues\u001b[38;5;241m.\u001b[39mmin(),min_temp_xr[\u001b[38;5;124m\"\u001b[39m\u001b[38;5;124mair_temperature\u001b[39m\u001b[38;5;124m\"\u001b[39m][\u001b[38;5;124m\"\u001b[39m\u001b[38;5;124mlat\u001b[39m\u001b[38;5;124m\"\u001b[39m]\u001b[38;5;241m.\u001b[39mvalues\u001b[38;5;241m.\u001b[39mmax())\n",
      "\u001b[0;31mNameError\u001b[0m: name 'min_temp_xr' is not defined"
     ]
    }
   ],
   "source": [
    "#view the first values\n",
    "min_temp_xr[\"air_temperature\"][\"lat\"].values[:5]\n",
    "\n",
    "#print min/max values\n",
    "print(\"the min/maxi lattitude values are:\",min_temp_xr[\"air_temperature\"][\"lat\"].values.min(),min_temp_xr[\"air_temperature\"][\"lat\"].values.max())\n",
    "print(\"the min/maxi longitude values are:\",min_temp_xr[\"air_temperature\"][\"lon\"].values.min(),min_temp_xr[\"air_temperature\"][\"lon\"].values.max())\n"
   ]
  },
  {
   "cell_type": "code",
   "execution_count": 9,
   "id": "1bd8fb9f-987c-4119-a6b8-3b1a703ae81f",
   "metadata": {},
   "outputs": [
    {
     "ename": "NameError",
     "evalue": "name 'min_temp_xr' is not defined",
     "output_type": "error",
     "traceback": [
      "\u001b[0;31m---------------------------------------------------------------------------\u001b[0m",
      "\u001b[0;31mNameError\u001b[0m                                 Traceback (most recent call last)",
      "Cell \u001b[0;32mIn[9], line 2\u001b[0m\n\u001b[1;32m      1\u001b[0m \u001b[38;5;66;03m#data range\u001b[39;00m\n\u001b[0;32m----> 2\u001b[0m \u001b[38;5;28mprint\u001b[39m(\u001b[38;5;124m\"\u001b[39m\u001b[38;5;124mthe earliest date in data\u001b[39m\u001b[38;5;124m\"\u001b[39m,min_temp_xr[\u001b[38;5;124m\"\u001b[39m\u001b[38;5;124mtime\u001b[39m\u001b[38;5;124m\"\u001b[39m]\u001b[38;5;241m.\u001b[39mmin())\n\u001b[1;32m      3\u001b[0m \u001b[38;5;28mprint\u001b[39m(\u001b[38;5;124m\"\u001b[39m\u001b[38;5;124mlatest date in data:\u001b[39m\u001b[38;5;124m\"\u001b[39m,min_temp_xr[\u001b[38;5;124m\"\u001b[39m\u001b[38;5;124mtime\u001b[39m\u001b[38;5;124m\"\u001b[39m]\u001b[38;5;241m.\u001b[39mmax())\n",
      "\u001b[0;31mNameError\u001b[0m: name 'min_temp_xr' is not defined"
     ]
    }
   ],
   "source": [
    "#data range\n",
    "print(\"the earliest date in data\",min_temp_xr[\"time\"].min())\n",
    "print(\"latest date in data:\",min_temp_xr[\"time\"].max())"
   ]
  },
  {
   "cell_type": "code",
   "execution_count": null,
   "id": "235e08e3-0436-4317-8541-1ac11db858af",
   "metadata": {},
   "outputs": [],
   "source": [
    "print(\"data shape\",min_temp_xr[\"air_temperature\"].values)"
   ]
  },
  {
   "cell_type": "code",
   "execution_count": null,
   "id": "d3b5580a-2942-4abe-bc69-4a427086f1fc",
   "metadata": {},
   "outputs": [],
   "source": [
    "#metadata\n",
    "metadata = min_temp_xr.attrs\n",
    "print(metadata[\"title\"])\n"
   ]
  },
  {
   "cell_type": "code",
   "execution_count": null,
   "id": "b7194656-9c34-4413-935c-2064269a5a94",
   "metadata": {},
   "outputs": [],
   "source": [
    "key=40\n",
    "latitude = min_temp_xr[\"air_temperature\"][\"lat\"].values[key]\n",
    "longitude = min_temp_xr[\"air_temperature\"][\"lon\"].values[key]\n",
    "print( \"the latitude {},the longitude {}:\".format(latitude,longitude))\n"
   ]
  },
  {
   "cell_type": "code",
   "execution_count": null,
   "id": "add0a29e-f093-4b22-b033-ee6a7f7d495c",
   "metadata": {},
   "outputs": [],
   "source": [
    "#subsetting data\n",
    "one_point = min_temp_xr[\"air_temperature\"].sel(lat=latitude,lon=longitude)\n",
    "print(one_point.shape)"
   ]
  },
  {
   "cell_type": "code",
   "execution_count": null,
   "id": "44570569-6cc1-4458-b63d-7e67738eed3a",
   "metadata": {},
   "outputs": [],
   "source": [
    "f,ax = plt.subplots(figsize=(12,6))\n",
    "one_point.plot.line(hue='lat',marker='o',ax=ax,color=\"grey\",markerfacecolor=\"purple\",markeredgecolor=\"purple\")\n",
    "ax.set(title=\"Time series for a Single lat/lon\")"
   ]
  },
  {
   "cell_type": "code",
   "execution_count": null,
   "id": "3c4c834a-4b53-466e-a77e-03d26e2d490c",
   "metadata": {},
   "outputs": [],
   "source": [
    "#convering time series data to dataframe\n",
    "one_point_df = one_point.to_dataframe()\n",
    "one_point_df.head()"
   ]
  },
  {
   "cell_type": "code",
   "execution_count": null,
   "id": "38714f48-3e9b-45b5-aaa3-400de3d07224",
   "metadata": {},
   "outputs": [],
   "source": [
    "#to csv\n",
    "one_point_df.to_csv('one-location.csv')"
   ]
  },
  {
   "cell_type": "code",
   "execution_count": null,
   "id": "45a72f3f-2d9a-4d7d-a2a4-357af5adca5a",
   "metadata": {},
   "outputs": [],
   "source": [
    "#temporal and spatial subsetting of data\n",
    "start_date = \"2001-01-01\"\n",
    "end_date = \"2005-01-01\"\n",
    "temp_2000_2005 = min_temp_xr[\"air_temperature\"].sel(time=slice(start_date,end_date),lat=latitude,lon=longitude)\n",
    "temp_2000_2005.values"
   ]
  },
  {
   "cell_type": "code",
   "execution_count": null,
   "id": "a1abc7af-7373-4d10-9e38-5ddccda70895",
   "metadata": {},
   "outputs": [],
   "source": [
    "sliced_2000_01_01_2005_01_01_241_41_data = temp_2000_2005.to_dataframe()\n",
    "sliced_2000_01_01_2005_01_01_241_41_data.to_csv(\"sliced_2000_01_01_2005_01_01_241_41_data.csv\")"
   ]
  },
  {
   "cell_type": "code",
   "execution_count": null,
   "id": "73b4f8d5-6850-4b0d-a0fc-cad8694a3f6b",
   "metadata": {},
   "outputs": [],
   "source": [
    "#slice data ploting\n",
    "f,ax = plt.subplots(figsize=(12,6))\n",
    "temp_2000_2005.plot.line(hue='lat',marker='o',ax=ax,markerfacecolor=\"purple\",markeredgecolor=\"black\")\n",
    "ax.set(title=\"A 5-year Time Series of Temp Data for Location 41,241\")\n",
    "plt.show()"
   ]
  },
  {
   "cell_type": "code",
   "execution_count": null,
   "id": "155a7734-ae8a-4754-bcc2-943901824818",
   "metadata": {},
   "outputs": [],
   "source": [
    "#slicing across a specific extent for aspecific time\n",
    "\n",
    "bcc_csm = min_temp_xr[\"air_temperature\"].sel(time=slice(start_date,end_date))\n",
    "#plotting\n",
    "#f,ax = plt.subplots(figsize = (12,6))\n",
    "\n",
    "#saving data\n",
    "start_date = \"1950-01-15\"\n",
    "end_date= \"1950-02-15\"\n",
    "\n",
    "file_name = \"monthly-temp\"+ start_date+\"-\"+end_date+\".csv\"\n",
    "file_name\n",
    "#bcc_csm.to_dataframe().to_csv(file_name)\n"
   ]
  },
  {
   "cell_type": "code",
   "execution_count": null,
   "id": "8fa0bd9d-b04b-4e4b-9870-52a9710a98bc",
   "metadata": {},
   "outputs": [],
   "source": [
    "bcc_csm.plot()"
   ]
  },
  {
   "cell_type": "code",
   "execution_count": null,
   "id": "798ab72c-bf99-4c2e-8a46-612fbbe1f795",
   "metadata": {},
   "outputs": [],
   "source": [
    "#spatial raster plots\n",
    "#One month time steps\n",
    "bcc_csm.plot(x=\"lon\",y=\"lat\",col=\"time\",col_wrap=2)\n",
    "plt.show()"
   ]
  },
  {
   "cell_type": "code",
   "execution_count": null,
   "id": "5622be6e-f86d-469f-aaa3-b0b5b2b3919d",
   "metadata": {},
   "outputs": [],
   "source": [
    "central_lat = 37.5\n",
    "central_long = 96\n",
    "extend = [-120,-70,20,55.5] #conus\n",
    "\n",
    "maj_proj = ccrs.AlbersEqualArea(central_longitude=central_lon,central_latitude=central_lat) \n",
    "aspect = bcc_csm.shape[2] / bcc_csm[1]\n",
    "\n",
    "p = bcc_csm.plot(transform=ccrs,PLateCarree(),col='time',col_wrap=1,aspect=aspect,figsize=(10,10),subplot_kws={'projection' : map_proj})\n",
    "\n",
    "plt.suptitles(\"Two Time Steps of CONUS\")"
   ]
  },
  {
   "cell_type": "code",
   "execution_count": null,
   "id": "148333cb-9ad2-4708-b63d-637c7ec33948",
   "metadata": {},
   "outputs": [],
   "source": []
  },
  {
   "cell_type": "code",
   "execution_count": null,
   "id": "2dcbd56b-b122-49c3-a425-9093a6d137b5",
   "metadata": {},
   "outputs": [],
   "source": []
  },
  {
   "cell_type": "code",
   "execution_count": null,
   "id": "bbc0aa8a-21c3-43f1-a769-9cbbdb97b5ac",
   "metadata": {},
   "outputs": [],
   "source": []
  },
  {
   "cell_type": "code",
   "execution_count": null,
   "id": "a43db8b6-3448-42f3-8c6d-98bbd0fe707e",
   "metadata": {},
   "outputs": [],
   "source": []
  },
  {
   "cell_type": "code",
   "execution_count": null,
   "id": "a4675b93-1849-4611-82cd-c335ef2bacb3",
   "metadata": {},
   "outputs": [],
   "source": []
  },
  {
   "cell_type": "code",
   "execution_count": null,
   "id": "81cf7808-be85-4cad-9c8d-6b96a6e8ca7b",
   "metadata": {},
   "outputs": [],
   "source": []
  },
  {
   "cell_type": "code",
   "execution_count": null,
   "id": "e0f4e858-a63e-472e-b139-20987bc382fa",
   "metadata": {},
   "outputs": [],
   "source": []
  },
  {
   "cell_type": "code",
   "execution_count": null,
   "id": "d7b87a6a-e338-4559-beb1-db664505b6ce",
   "metadata": {},
   "outputs": [],
   "source": []
  },
  {
   "cell_type": "code",
   "execution_count": null,
   "id": "af77d915-99e0-4b0c-802b-a99f4230bb67",
   "metadata": {},
   "outputs": [],
   "source": []
  },
  {
   "cell_type": "code",
   "execution_count": null,
   "id": "4c3d73fe-899a-4f59-beff-fca0d0bafc02",
   "metadata": {},
   "outputs": [],
   "source": []
  }
 ],
 "metadata": {
  "kernelspec": {
   "display_name": "Python 3 (ipykernel)",
   "language": "python",
   "name": "python3"
  },
  "language_info": {
   "codemirror_mode": {
    "name": "ipython",
    "version": 3
   },
   "file_extension": ".py",
   "mimetype": "text/x-python",
   "name": "python",
   "nbconvert_exporter": "python",
   "pygments_lexer": "ipython3",
   "version": "3.12.2"
  }
 },
 "nbformat": 4,
 "nbformat_minor": 5
}
